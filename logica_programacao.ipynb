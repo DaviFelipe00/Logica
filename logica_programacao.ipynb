{
 "cells": [
  {
   "cell_type": "markdown",
   "id": "5832bd3e-479e-4026-9e3f-7bf9f704d6d9",
   "metadata": {},
   "source": [
    "# Lógica de programação"
   ]
  },
  {
   "cell_type": "markdown",
   "id": "c00bf01a-ce54-4196-9444-b60157d45385",
   "metadata": {},
   "source": [
    "## Algoritmos e Fluxo de Execução\n",
    "Um algoritmo é uma sequência de passos lógicos para resolver um problema. No Python, esses passos são escritos em código, que é executado de cima para baixo, a menos que haja desvios no fluxo."
   ]
  },
  {
   "cell_type": "code",
   "execution_count": 49,
   "id": "2d5c32e3-4267-4cc0-b918-59d516cc072c",
   "metadata": {},
   "outputs": [
    {
     "name": "stdout",
     "output_type": "stream",
     "text": [
      "Olá mundo\n"
     ]
    }
   ],
   "source": [
    "frase =  'Olá mundo'\n",
    "print(frase)"
   ]
  },
  {
   "cell_type": "markdown",
   "id": "4f7af3e1-3038-49c4-a9e1-cb56d96a07ee",
   "metadata": {},
   "source": [
    "você pode notar que foi atribuido a uma variável ( nesse caso a váriavel é 'frase' ), o texto: 'Olá mundo'.\n"
   ]
  },
  {
   "cell_type": "markdown",
   "id": "ac4212e9-cf1f-463f-91e9-063028436097",
   "metadata": {},
   "source": [
    "Essa variável foi criada e em sequência foi executada pela função 'Print' que é uma função no python para mostrar no console o que foi atribuido a ela.\n",
    "Caso o comando seja feito inversamente iria ocorrer um erro pois a viriável não tinha sido criada antes. Veja:"
   ]
  },
  {
   "cell_type": "code",
   "execution_count": 52,
   "id": "f41fbccd-1af6-4cde-90c3-0311184e12fa",
   "metadata": {},
   "outputs": [
    {
     "ename": "NameError",
     "evalue": "name 'frase_2' is not defined",
     "output_type": "error",
     "traceback": [
      "\u001b[1;31m---------------------------------------------------------------------------\u001b[0m",
      "\u001b[1;31mNameError\u001b[0m                                 Traceback (most recent call last)",
      "Cell \u001b[1;32mIn[52], line 1\u001b[0m\n\u001b[1;32m----> 1\u001b[0m \u001b[38;5;28mprint\u001b[39m(frase_2) \u001b[38;5;66;03m#Coloquei a variável como frase_2 porque frase já foi criado anteriormente, mas como pode ver o código da erro.\u001b[39;00m\n\u001b[0;32m      2\u001b[0m frase_2 \u001b[38;5;241m=\u001b[39m \u001b[38;5;124m'\u001b[39m\u001b[38;5;124mOlá mundo\u001b[39m\u001b[38;5;124m'\u001b[39m\n",
      "\u001b[1;31mNameError\u001b[0m: name 'frase_2' is not defined"
     ]
    }
   ],
   "source": [
    "print(frase_2) #Coloquei a variável como frase_2 porque frase já foi criado anteriormente, mas como pode ver o código da erro.\n",
    "frase_2 = 'Olá mundo'"
   ]
  },
  {
   "cell_type": "code",
   "execution_count": null,
   "id": "bfb1bab4-7c7b-4842-b9cb-d251314c0519",
   "metadata": {},
   "outputs": [],
   "source": [
    "Isso exemplifica bem o que é um fluxo de execução, o código tem que seguir determinada ordem, nesse caso de cima para baixo."
   ]
  },
  {
   "cell_type": "markdown",
   "id": "65cfdcdd-bd7e-44b9-8d82-fc287b916c46",
   "metadata": {},
   "source": [
    "## Tipos de dados na programação"
   ]
  },
  {
   "cell_type": "markdown",
   "id": "2875f7fc-f92a-4069-92cb-970713f01f37",
   "metadata": {},
   "source": [
    "Na programação existem vários tipos de dados diferentes, por exemplo: \"Davi\", Davi é uma palavra e se comporta como tipo \"String\", já \"1\" é um número, logo se comportara como um número. Veja a diferença a seguir:"
   ]
  },
  {
   "cell_type": "code",
   "execution_count": null,
   "id": "63539791-5ef5-48aa-a0ad-c28c56ea2a3e",
   "metadata": {},
   "outputs": [],
   "source": [
    "nome = \"Davi\" #Strings são padronizanos com o início e fim possuindo \" \" (aspas) sejam elas \" ( aspas duplas) ou ' ( aspas simples).\n",
    "numero =  1\n",
    "\n",
    "#Como são tipos diferentes, existem usabilidades diferentes, exemplo:\n",
    "\n",
    "print(numero + 2 )"
   ]
  },
  {
   "cell_type": "markdown",
   "id": "8fa60e28-cfee-4ab7-be46-73709070e763",
   "metadata": {},
   "source": [
    "Mesmo a viriável **número** sendo uma palavra em português, como no código foi lhe atribuida o valor de um número(\"1\"), ele será assim representado, sendo possível somá-lo a outros números, isso não é possível se a variável for uma String. Veja: "
   ]
  },
  {
   "cell_type": "code",
   "execution_count": null,
   "id": "0ca82908-c78c-4f9e-88e7-fb8e51094492",
   "metadata": {},
   "outputs": [],
   "source": [
    "print(nome + 2)"
   ]
  },
  {
   "cell_type": "markdown",
   "id": "ef3a4441-5fcd-42e4-bfc4-be158d469f2a",
   "metadata": {},
   "source": [
    "Observe que o \"TypeError\" é justamente descrito como: Você não pode contatenar \"String\" com número."
   ]
  },
  {
   "cell_type": "markdown",
   "id": "210e9b0e-4d92-4b0e-9ca0-3f5c3ad65c82",
   "metadata": {},
   "source": [
    "## Tipos pricipais de dados"
   ]
  },
  {
   "cell_type": "code",
   "execution_count": null,
   "id": "15270fdf-b407-4941-ac11-48f4362ed4dd",
   "metadata": {},
   "outputs": [],
   "source": [
    "Caracteres = \"String\" #O tipo String é um conjunto de caracteres, exemplo: @#@$%%A5, ele é criando como o inicio e fechamento de \" \".\n",
    "Inteiro =  5 #É um número inteiro do tipo \"int\"\n",
    "Booleano =  True #\"Armazena valores True ou False(Verdadeiro ou falso)\n",
    "PontoFlutuante = 3.2 #Números Decimais"
   ]
  },
  {
   "cell_type": "markdown",
   "id": "c204c571-3257-49b8-99cd-ef727e9cf16a",
   "metadata": {},
   "source": [
    "## Operadores"
   ]
  },
  {
   "cell_type": "markdown",
   "id": "335af854-3281-4496-a6f3-09104a8c2f43",
   "metadata": {},
   "source": [
    "Você aprenderá agora sobre operadores números, no python os principais são:\n",
    "1. (Soma =  + )\n",
    "2. (Subtração = - )\n",
    "3. (Multiplicação = * )\n",
    "4. (Divisão = / )\n",
    "\n",
    "Que tal tester isso é código?"
   ]
  },
  {
   "cell_type": "code",
   "execution_count": null,
   "id": "fe21d44b-050a-44f5-b4a9-c7b1ba94e956",
   "metadata": {},
   "outputs": [],
   "source": [
    "print(2+ 2)"
   ]
  },
  {
   "cell_type": "code",
   "execution_count": null,
   "id": "bdc965f9-0aa3-46c7-b900-acb57b0500ea",
   "metadata": {},
   "outputs": [],
   "source": [
    "print(2 - 2)"
   ]
  },
  {
   "cell_type": "code",
   "execution_count": null,
   "id": "b937bc9d-0287-476b-855b-7a0e51a0a342",
   "metadata": {},
   "outputs": [],
   "source": [
    "print( 3 * 3)"
   ]
  },
  {
   "cell_type": "code",
   "execution_count": null,
   "id": "1799ffda-0f29-4da6-afe0-2de618aa4456",
   "metadata": {},
   "outputs": [],
   "source": [
    "print( 9 / 3) #Ao executar divisão de números inteiro o resultado será um produto de ponto Flutuante"
   ]
  },
  {
   "cell_type": "markdown",
   "id": "391cab68-9e2d-470e-ba67-43e8b57fc525",
   "metadata": {},
   "source": [
    "Você pode fazer contas mais complexas:"
   ]
  },
  {
   "cell_type": "code",
   "execution_count": null,
   "id": "a94c2359-5ad1-473c-ac31-4caae983dd4f",
   "metadata": {},
   "outputs": [],
   "source": [
    "print((2 + 4/2 -2 + 7 * 3)) #Use 2 parenteses para contas compplexas no \"print\", porque no python os () também servem para chamar funções."
   ]
  },
  {
   "cell_type": "markdown",
   "id": "98090e86-e041-43e8-9184-e2fcb98fffe1",
   "metadata": {},
   "source": [
    "## Valores falsos e Verdades (Boolean):"
   ]
  },
  {
   "cell_type": "markdown",
   "id": "f988cc6f-878c-4261-8814-a70adde38feb",
   "metadata": {},
   "source": [
    "Pra que serve valores *True*  e *False*. Usualmentes eles são usados para validar algo, exemplo: Um número é positivo ou negativo?, veja:"
   ]
  },
  {
   "cell_type": "code",
   "execution_count": null,
   "id": "083ea055-fc9d-4ae5-ae62-469fd51c88be",
   "metadata": {},
   "outputs": [],
   "source": [
    "print(5>0)"
   ]
  },
  {
   "cell_type": "code",
   "execution_count": null,
   "id": "4905a4e8-56f3-439d-a46d-5d30a7406468",
   "metadata": {},
   "outputs": [],
   "source": [
    "#O mesmo serve para valores armazenados em variáveis\n",
    "\n",
    "maior = 10\n",
    "menor =  3\n",
    "\n",
    "print(maior > menor)"
   ]
  },
  {
   "cell_type": "code",
   "execution_count": null,
   "id": "34948c0c-fda3-44e4-b5f0-616ded36a25b",
   "metadata": {},
   "outputs": [],
   "source": [
    "#O mesmo cálculo pode ser usado para observar falsas afirmações, exemplo:\n",
    "\n",
    "print(menor > maior)"
   ]
  },
  {
   "cell_type": "markdown",
   "id": "19799b76-274a-4818-b778-21a1bb238254",
   "metadata": {},
   "source": [
    "## Operados lógicos"
   ]
  },
  {
   "cell_type": "markdown",
   "id": "51a34ca2-7860-4805-96b1-681dc86e84e4",
   "metadata": {},
   "source": [
    "Os operados lógicos como visto acima são usando para validar um código, sendo True ou False, veja:"
   ]
  },
  {
   "cell_type": "markdown",
   "id": "ed2dc310-879b-4780-b11f-2c2924bc7e69",
   "metadata": {
    "scrolled": true
   },
   "source": [
    "5 > 10 ( > ) Maior que \n",
    "13 < 20( < ) Menor que\n",
    "10 == 10 ( == ) Igual á "
   ]
  },
  {
   "cell_type": "code",
   "execution_count": null,
   "id": "fb723ba0-125e-4bcf-b4fa-eb90bbe5344a",
   "metadata": {},
   "outputs": [],
   "source": [
    "#Interessante notar que igual á é usado por '==' dois sinais de igual, porque apenas '=' é um sinal de atribuição no python.\n",
    "\n",
    "numero = 10 #Um sinal de igual significa que a viriável dez recebeu o valor 10\n",
    "\n",
    "#Já usando '==' verificamos se o valor é igual á\n",
    "\n",
    "print(numero == 11)"
   ]
  },
  {
   "cell_type": "code",
   "execution_count": null,
   "id": "04f99c74-d18f-4685-9846-fa0dcfd1102e",
   "metadata": {},
   "outputs": [],
   "source": [
    "#Agora se colocarmos\n",
    "print(numero == 10)"
   ]
  },
  {
   "cell_type": "code",
   "execution_count": null,
   "id": "561c6d63-65f2-4f29-a2a6-c766951c0ee7",
   "metadata": {},
   "outputs": [],
   "source": []
  }
 ],
 "metadata": {
  "kernelspec": {
   "display_name": "Python 3 (ipykernel)",
   "language": "python",
   "name": "python3"
  },
  "language_info": {
   "codemirror_mode": {
    "name": "ipython",
    "version": 3
   },
   "file_extension": ".py",
   "mimetype": "text/x-python",
   "name": "python",
   "nbconvert_exporter": "python",
   "pygments_lexer": "ipython3",
   "version": "3.12.4"
  }
 },
 "nbformat": 4,
 "nbformat_minor": 5
}
