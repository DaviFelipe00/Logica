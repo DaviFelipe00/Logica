{
 "cells": [
  {
   "cell_type": "markdown",
   "id": "5832bd3e-479e-4026-9e3f-7bf9f704d6d9",
   "metadata": {},
   "source": [
    "# Lógica de programação"
   ]
  },
  {
   "cell_type": "markdown",
   "id": "c00bf01a-ce54-4196-9444-b60157d45385",
   "metadata": {},
   "source": [
    "## Algoritmos e Fluxo de Execução\n",
    "Um algoritmo é uma sequência de passos lógicos para resolver um problema. No Python, esses passos são escritos em código, que é executado de cima para baixo, a menos que haja desvios no fluxo."
   ]
  },
  {
   "cell_type": "code",
   "execution_count": null,
   "id": "2d5c32e3-4267-4cc0-b918-59d516cc072c",
   "metadata": {},
   "outputs": [
    {
     "name": "stdout",
     "output_type": "stream",
     "text": [
      "Olá mundo\n"
     ]
    }
   ],
   "source": [
    "frase =  'Olá mundo'\n",
    "print(frase)"
   ]
  },
  {
   "cell_type": "markdown",
   "id": "4f7af3e1-3038-49c4-a9e1-cb56d96a07ee",
   "metadata": {},
   "source": [
    "você pode notar que foi atribuido a uma variável ( nesse caso a váriavel é 'frase' ) o texto 'Olá mundo'.\n"
   ]
  },
  {
   "cell_type": "markdown",
   "id": "ac4212e9-cf1f-463f-91e9-063028436097",
   "metadata": {},
   "source": [
    "Essa variável foi criada e em sequência foi executada pela função 'Print' que é uma função no python para mostrar no console o que foi atribuido a ela.\n",
    "Caso o comando seja feito inversamente iria ocorrer um erro pois a viriável não tinha sido criada antes. Veja:"
   ]
  },
  {
   "cell_type": "code",
   "execution_count": null,
   "id": "f41fbccd-1af6-4cde-90c3-0311184e12fa",
   "metadata": {},
   "outputs": [
    {
     "ename": "NameError",
     "evalue": "name 'frase_2' is not defined",
     "output_type": "error",
     "traceback": [
      "\u001b[1;31m---------------------------------------------------------------------------\u001b[0m",
      "\u001b[1;31mNameError\u001b[0m                                 Traceback (most recent call last)",
      "Cell \u001b[1;32mIn[10], line 1\u001b[0m\n\u001b[1;32m----> 1\u001b[0m \u001b[38;5;28mprint\u001b[39m(frase_2) \u001b[38;5;66;03m#Coloquei a variável como frase_2 porque frase já foi criado anteriormente, mas como pode ver o código da erro.\u001b[39;00m\n\u001b[0;32m      2\u001b[0m frase_2 \u001b[38;5;241m=\u001b[39m \u001b[38;5;124m'\u001b[39m\u001b[38;5;124mOlá mundo\u001b[39m\u001b[38;5;124m'\u001b[39m\n",
      "\u001b[1;31mNameError\u001b[0m: name 'frase_2' is not defined"
     ]
    }
   ],
   "source": [
    "print(frase_2) #Coloquei a variável como frase_2 porque frase já foi criado anteriormente, mas como pode ver o código da erro.\n",
    "frase_2 = 'Olá mundo'"
   ]
  },
  {
   "cell_type": "code",
   "execution_count": null,
   "id": "bfb1bab4-7c7b-4842-b9cb-d251314c0519",
   "metadata": {},
   "outputs": [],
   "source": [
    "Isso exemplifica bem o que é um fluxo de execução, o código tem que seguir determinada ordem, nesse caso de cima para baixo."
   ]
  }
 ],
 "metadata": {
  "kernelspec": {
   "display_name": "Python 3 (ipykernel)",
   "language": "python",
   "name": "python3"
  },
  "language_info": {
   "codemirror_mode": {
    "name": "ipython",
    "version": 3
   },
   "file_extension": ".py",
   "mimetype": "text/x-python",
   "name": "python",
   "nbconvert_exporter": "python",
   "pygments_lexer": "ipython3",
   "version": "3.12.4"
  }
 },
 "nbformat": 4,
 "nbformat_minor": 5
}
