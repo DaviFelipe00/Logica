{
 "cells": [
  {
   "cell_type": "markdown",
   "id": "5832bd3e-479e-4026-9e3f-7bf9f704d6d9",
   "metadata": {},
   "source": [
    "# Lógica de programação"
   ]
  },
  {
   "cell_type": "markdown",
   "id": "c00bf01a-ce54-4196-9444-b60157d45385",
   "metadata": {},
   "source": [
    "## Algoritmos e Fluxo de Execução\n",
    "Um algoritmo é uma sequência de passos lógicos para resolver um problema. No Python, esses passos são escritos em código, que é executado de cima para baixo, a menos que haja desvios no fluxo."
   ]
  },
  {
   "cell_type": "code",
   "execution_count": 5,
   "id": "2d5c32e3-4267-4cc0-b918-59d516cc072c",
   "metadata": {},
   "outputs": [
    {
     "name": "stdout",
     "output_type": "stream",
     "text": [
      "Olá mundo\n"
     ]
    }
   ],
   "source": [
    "frase =  'Olá mundo'\n",
    "print(frase)"
   ]
  },
  {
   "cell_type": "markdown",
   "id": "4f7af3e1-3038-49c4-a9e1-cb56d96a07ee",
   "metadata": {},
   "source": [
    "você pode notar que foi atribuido a uma variável ( nesse caso a váriavel é 'frase' ) o texto 'Olá mundo'.\n"
   ]
  },
  {
   "cell_type": "markdown",
   "id": "ac4212e9-cf1f-463f-91e9-063028436097",
   "metadata": {},
   "source": [
    "Essa variável foi criada e em sequência foi executada pela função 'Print' que é uma função no python para mostrar no console o que foi atribuido a ela.\n",
    "Caso o comando seja feito inversamente iria ocorrer um erro pois a viriável não tinha sido criada antes. Veja:"
   ]
  },
  {
   "cell_type": "code",
   "execution_count": 8,
   "id": "f41fbccd-1af6-4cde-90c3-0311184e12fa",
   "metadata": {},
   "outputs": [
    {
     "ename": "NameError",
     "evalue": "name 'frase_2' is not defined",
     "output_type": "error",
     "traceback": [
      "\u001b[1;31m---------------------------------------------------------------------------\u001b[0m",
      "\u001b[1;31mNameError\u001b[0m                                 Traceback (most recent call last)",
      "Cell \u001b[1;32mIn[8], line 1\u001b[0m\n\u001b[1;32m----> 1\u001b[0m \u001b[38;5;28mprint\u001b[39m(frase_2) \u001b[38;5;66;03m#Coloquei a variável como frase_2 porque frase já foi criado anteriormente, mas como pode ver o código da erro.\u001b[39;00m\n\u001b[0;32m      2\u001b[0m frase_2 \u001b[38;5;241m=\u001b[39m \u001b[38;5;124m'\u001b[39m\u001b[38;5;124mOlá mundo\u001b[39m\u001b[38;5;124m'\u001b[39m\n",
      "\u001b[1;31mNameError\u001b[0m: name 'frase_2' is not defined"
     ]
    }
   ],
   "source": [
    "print(frase_2) #Coloquei a variável como frase_2 porque frase já foi criado anteriormente, mas como pode ver o código da erro.\n",
    "frase_2 = 'Olá mundo'"
   ]
  },
  {
   "cell_type": "code",
   "execution_count": null,
   "id": "bfb1bab4-7c7b-4842-b9cb-d251314c0519",
   "metadata": {},
   "outputs": [],
   "source": [
    "Isso exemplifica bem o que é um fluxo de execução, o código tem que seguir determinada ordem, nesse caso de cima para baixo."
   ]
  },
  {
   "cell_type": "markdown",
   "id": "65cfdcdd-bd7e-44b9-8d82-fc287b916c46",
   "metadata": {},
   "source": [
    "## Tipos de dados na programação"
   ]
  },
  {
   "cell_type": "markdown",
   "id": "2875f7fc-f92a-4069-92cb-970713f01f37",
   "metadata": {},
   "source": [
    "Na programação existem vários tipos de dados diferentes, por exemplo: \"Davi\", Davi é uma palavra e se comporta como tipo \"String\", já \"1\" é um número, logo se comportara como um número. Veja a diferença a seguir:"
   ]
  },
  {
   "cell_type": "code",
   "execution_count": 19,
   "id": "63539791-5ef5-48aa-a0ad-c28c56ea2a3e",
   "metadata": {},
   "outputs": [
    {
     "name": "stdout",
     "output_type": "stream",
     "text": [
      "3\n"
     ]
    }
   ],
   "source": [
    "nome = \"Davi\" #Strings são padronizanos com o início e fim possuindo \" \" (aspas) sejam elas \" ( aspas duplas) ou ' ( aspas simples).\n",
    "numero =  1\n",
    "\n",
    "#Como são tipos diferentes, existem usabilidades diferentes, exemplo:\n",
    "\n",
    "print(numero + 2 )"
   ]
  },
  {
   "cell_type": "markdown",
   "id": "8fa60e28-cfee-4ab7-be46-73709070e763",
   "metadata": {},
   "source": [
    "Mesmo a viriável **número** sendo uma palavra em português, como no código foi lhe atribuida o valor de um número(\"1\"), ele será assim representado, sendo possível somá-lo a outros números, isso não é possível se a variável for uma String. Veja: "
   ]
  },
  {
   "cell_type": "code",
   "execution_count": 21,
   "id": "0ca82908-c78c-4f9e-88e7-fb8e51094492",
   "metadata": {},
   "outputs": [
    {
     "ename": "TypeError",
     "evalue": "can only concatenate str (not \"int\") to str",
     "output_type": "error",
     "traceback": [
      "\u001b[1;31m---------------------------------------------------------------------------\u001b[0m",
      "\u001b[1;31mTypeError\u001b[0m                                 Traceback (most recent call last)",
      "Cell \u001b[1;32mIn[21], line 1\u001b[0m\n\u001b[1;32m----> 1\u001b[0m \u001b[38;5;28mprint\u001b[39m(nome \u001b[38;5;241m+\u001b[39m \u001b[38;5;241m2\u001b[39m)\n",
      "\u001b[1;31mTypeError\u001b[0m: can only concatenate str (not \"int\") to str"
     ]
    }
   ],
   "source": [
    "print(nome + 2)"
   ]
  },
  {
   "cell_type": "markdown",
   "id": "ef3a4441-5fcd-42e4-bfc4-be158d469f2a",
   "metadata": {},
   "source": [
    "Observe que o \"TypeError\" é justamente descrito como: Você não pode contatenar \"String\" com número."
   ]
  },
  {
   "cell_type": "markdown",
   "id": "210e9b0e-4d92-4b0e-9ca0-3f5c3ad65c82",
   "metadata": {},
   "source": [
    "## Tipos pricipais de dados"
   ]
  },
  {
   "cell_type": "markdown",
   "id": "320c915f-0d64-4744-a3d3-b5066580f917",
   "metadata": {},
   "source": [
    "String = São conjunto de caracteres podendo ser textos, frases ou qualquer junção de caracteres, exemplo: \"T@#*&#\"\n",
    "Int = São números inteiros, exemplo: 10\n",
    "Float =  São números ponto flutuante, exemplo: 4.0\n",
    "Boolean = São valores verdadeiros ou falso, exemplo: TRUE"
   ]
  }
 ],
 "metadata": {
  "kernelspec": {
   "display_name": "Python 3 (ipykernel)",
   "language": "python",
   "name": "python3"
  },
  "language_info": {
   "codemirror_mode": {
    "name": "ipython",
    "version": 3
   },
   "file_extension": ".py",
   "mimetype": "text/x-python",
   "name": "python",
   "nbconvert_exporter": "python",
   "pygments_lexer": "ipython3",
   "version": "3.12.4"
  }
 },
 "nbformat": 4,
 "nbformat_minor": 5
}
